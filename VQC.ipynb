{
 "cells": [
  {
   "cell_type": "code",
   "execution_count": 38,
   "id": "b8a6a702-950d-4038-b18d-bfa1df7d9fad",
   "metadata": {},
   "outputs": [],
   "source": [
    "import pennylane as qml\n",
    "import pennylane.numpy as np\n",
    "from sklearn.datasets import load_iris\n",
    "from sklearn.model_selection import train_test_split\n",
    "from sklearn.preprocessing import StandardScaler\n",
    "from sklearn.metrics import accuracy_score\n",
    "\n",
    "# Load and prepare data\n",
    "def load_data():\n",
    "    data = load_iris()\n",
    "    X = data.data\n",
    "    y = data.target\n",
    "    X_train, X_test, y_train, y_test = train_test_split(X, y, test_size=0.3, random_state=42)\n",
    "    return X_train, X_test, y_train, y_test\n",
    "\n",
    "# Enhanced quantum circuit with increased depth and qubits\n",
    "def quantum_circuit(weights, x, num_qubits, num_layers):\n",
    "    # Apply data encoding\n",
    "    for i in range(num_qubits):\n",
    "        qml.RX(x[i], wires=i)\n",
    "        qml.RZ(x[i], wires = i)\n",
    "    # Apply multiple layers of parameterized gates\n",
    "    for layer in range(num_layers):\n",
    "        for i in range(num_qubits - 1):\n",
    "            qml.CNOT(wires=[i, i + 1])\n",
    "        for i in range(num_qubits):\n",
    "            qml.RX(weights[layer * num_qubits + i + num_qubits], wires=i)\n",
    "            # qml.RZ(weights[layer * num_qubits + i], wires=i)\n",
    "        \n",
    "            \n",
    "    \n",
    "    return qml.expval(qml.PauliZ(0))\n",
    "\n",
    "# Define VQC model\n",
    "def vqc_model(weights, x):\n",
    "    num_qubits = len(x)\n",
    "    return quantum_circuit(weights, x, num_qubits=num_qubits, num_layers=5)\n",
    "\n",
    "# Define the VQC cost function\n",
    "def cost(weights, X, y):\n",
    "    predictions = []\n",
    "    for x in X:\n",
    "        pred = quantum_classifier(weights, x)\n",
    "        predictions.append(int(pred > 0))  # Convert to binary classification\n",
    "    predictions = np.array(predictions)\n",
    "    accuracy = np.mean(predictions == y)\n",
    "    return 1 - accuracy  # Minimize 1 - accuracy\n",
    "\n",
    "\n",
    "\n",
    "\n"
   ]
  },
  {
   "cell_type": "code",
   "execution_count": 39,
   "id": "41035305-8afa-4237-99cf-d2f74cc68aab",
   "metadata": {},
   "outputs": [],
   "source": [
    "# Initialize quantum device\n",
    "dev = qml.device(\"default.qubit\", wires=10)  # Increased number of qubits\n",
    "\n",
    "@qml.qnode(dev)\n",
    "def quantum_classifier(weights, x):\n",
    "    return vqc_model(weights, x)\n",
    "\n",
    "# Optimize the circuit\n",
    "def train_vqc(X_train, y_train):\n",
    "    num_qubits = X_train.shape[1]\n",
    "    num_weights = 4 * num_qubits * 2  # Increased number of weights\n",
    "    weights = np.random.rand(num_weights) * 2 * np.pi\n",
    "    opt = qml.GradientDescentOptimizer(stepsize=0.01)\n",
    "    \n",
    "    for _ in range(10):\n",
    "        weights = opt.step(lambda w: cost(w, X_train, y_train), weights)\n",
    "        y_pred = predict(optimal_weights, X_train)\n",
    "        accuracy = accuracy_score(y_train, y_pred)\n",
    "        print(f\"Accuracy: {accuracy:.2f}\")\n",
    "    return weights"
   ]
  },
  {
   "cell_type": "code",
   "execution_count": null,
   "id": "ca001d3d-3f14-4582-a7d3-4b4eb10a7d23",
   "metadata": {},
   "outputs": [
    {
     "name": "stderr",
     "output_type": "stream",
     "text": [
      "C:\\Users\\cgamb\\.conda\\envs\\Quantum\\Lib\\site-packages\\autograd\\tracer.py:14: UserWarning: Output seems independent of input.\n",
      "  warnings.warn(\"Output seems independent of input.\")\n"
     ]
    },
    {
     "name": "stdout",
     "output_type": "stream",
     "text": [
      "Accuracy: 0.19\n"
     ]
    },
    {
     "name": "stderr",
     "output_type": "stream",
     "text": [
      "C:\\Users\\cgamb\\.conda\\envs\\Quantum\\Lib\\site-packages\\autograd\\tracer.py:14: UserWarning: Output seems independent of input.\n",
      "  warnings.warn(\"Output seems independent of input.\")\n"
     ]
    },
    {
     "name": "stdout",
     "output_type": "stream",
     "text": [
      "Accuracy: 0.19\n"
     ]
    },
    {
     "name": "stderr",
     "output_type": "stream",
     "text": [
      "C:\\Users\\cgamb\\.conda\\envs\\Quantum\\Lib\\site-packages\\autograd\\tracer.py:14: UserWarning: Output seems independent of input.\n",
      "  warnings.warn(\"Output seems independent of input.\")\n"
     ]
    },
    {
     "name": "stdout",
     "output_type": "stream",
     "text": [
      "Accuracy: 0.19\n"
     ]
    },
    {
     "name": "stderr",
     "output_type": "stream",
     "text": [
      "C:\\Users\\cgamb\\.conda\\envs\\Quantum\\Lib\\site-packages\\autograd\\tracer.py:14: UserWarning: Output seems independent of input.\n",
      "  warnings.warn(\"Output seems independent of input.\")\n"
     ]
    },
    {
     "name": "stdout",
     "output_type": "stream",
     "text": [
      "Accuracy: 0.19\n"
     ]
    },
    {
     "name": "stderr",
     "output_type": "stream",
     "text": [
      "C:\\Users\\cgamb\\.conda\\envs\\Quantum\\Lib\\site-packages\\autograd\\tracer.py:14: UserWarning: Output seems independent of input.\n",
      "  warnings.warn(\"Output seems independent of input.\")\n"
     ]
    },
    {
     "name": "stdout",
     "output_type": "stream",
     "text": [
      "Accuracy: 0.19\n"
     ]
    },
    {
     "name": "stderr",
     "output_type": "stream",
     "text": [
      "C:\\Users\\cgamb\\.conda\\envs\\Quantum\\Lib\\site-packages\\autograd\\tracer.py:14: UserWarning: Output seems independent of input.\n",
      "  warnings.warn(\"Output seems independent of input.\")\n"
     ]
    },
    {
     "name": "stdout",
     "output_type": "stream",
     "text": [
      "Accuracy: 0.19\n"
     ]
    },
    {
     "name": "stderr",
     "output_type": "stream",
     "text": [
      "C:\\Users\\cgamb\\.conda\\envs\\Quantum\\Lib\\site-packages\\autograd\\tracer.py:14: UserWarning: Output seems independent of input.\n",
      "  warnings.warn(\"Output seems independent of input.\")\n"
     ]
    },
    {
     "name": "stdout",
     "output_type": "stream",
     "text": [
      "Accuracy: 0.19\n"
     ]
    }
   ],
   "source": [
    "# Load data\n",
    "X_train, X_test, y_train, y_test = load_data()\n",
    "\n",
    "# Preprocess data\n",
    "scaler = StandardScaler()\n",
    "X_train = scaler.fit_transform(X_train)\n",
    "X_test = scaler.transform(X_test)\n",
    "\n",
    "# Train the classifier\n",
    "\n",
    "optimal_weights = train_vqc(X_train, y_train)\n",
    "drawer = qml.draw(quantum_classifier)\n",
    "print(drawer(optimal_weights,X_train[0]))\n",
    "# Test the classifier\n",
    "def predict(weights, X):\n",
    "    predictions = []\n",
    "    for x in X:\n",
    "        pred = quantum_classifier(weights, x)\n",
    "        predictions.append(int(pred > 0))  # Convert to binary classification\n",
    "    return np.array(predictions)\n",
    "\n",
    "# Evaluate on test set\n",
    "y_pred = predict(optimal_weights, X_test)\n",
    "accuracy = accuracy_score(y_test, y_pred)\n",
    "print(f\"Accuracy: {accuracy:.2f}\")"
   ]
  },
  {
   "cell_type": "code",
   "execution_count": null,
   "id": "88f40011-6c1d-4b14-b3f1-d7b1ddebb2cd",
   "metadata": {},
   "outputs": [],
   "source": []
  }
 ],
 "metadata": {
  "kernelspec": {
   "display_name": "Python 3 (ipykernel)",
   "language": "python",
   "name": "python3"
  },
  "language_info": {
   "codemirror_mode": {
    "name": "ipython",
    "version": 3
   },
   "file_extension": ".py",
   "mimetype": "text/x-python",
   "name": "python",
   "nbconvert_exporter": "python",
   "pygments_lexer": "ipython3",
   "version": "3.11.9"
  }
 },
 "nbformat": 4,
 "nbformat_minor": 5
}
